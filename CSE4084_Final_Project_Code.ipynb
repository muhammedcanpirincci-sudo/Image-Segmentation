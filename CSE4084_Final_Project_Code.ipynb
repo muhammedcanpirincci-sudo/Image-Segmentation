{
  "cells": [
    {
      "cell_type": "code",
      "execution_count": null,
      "metadata": {
        "id": "H1o6er64s3Yt"
      },
      "outputs": [],
      "source": [
        "!bash /content/download_data.sh #getting dataset"
      ]
    },
    {
      "cell_type": "code",
      "execution_count": null,
      "metadata": {
        "id": "Xnq4l5HgtPMn"
      },
      "outputs": [],
      "source": [
        "import os\n",
        "import sys\n",
        "folder = '/content/data/img_GT/'\n",
        "for filename in os.listdir(folder):\n",
        "    infilename = os.path.join(folder,filename)\n",
        "    if not os.path.isfile(infilename): continue\n",
        "    oldbase = os.path.splitext(filename)\n",
        "    newname = infilename.replace('.gif', '.jpg')\n",
        "    output = os.rename(infilename, newname)"
      ]
    },
    {
      "cell_type": "code",
      "execution_count": 2,
      "metadata": {
        "id": "tZ0__Ig7Yzza"
      },
      "outputs": [],
      "source": [
        "from PIL import Image\n",
        "import os, sys\n",
        "\n",
        "path = \"/content/data/img_GT/\"\n",
        "dirs = os.listdir( path )\n",
        "\n",
        "def resize():\n",
        "    for item in dirs:\n",
        "        if os.path.isfile(path+item):\n",
        "            try:\n",
        "              im = Image.open(path+item)\n",
        "              f, e = os.path.splitext(path+item)\n",
        "              imResize = im.resize((224,224), Image.ANTIALIAS)\n",
        "              imResize.save(path+item)\n",
        "            except:\n",
        "              print(\"x\")\n",
        "\n",
        "resize()"
      ]
    },
    {
      "cell_type": "code",
      "execution_count": 3,
      "metadata": {
        "id": "u60BrR9YPlMJ"
      },
      "outputs": [],
      "source": [
        "from PIL import Image\n",
        "import os, sys\n",
        "\n",
        "path = \"/content/data/imgs/\"\n",
        "dirs = os.listdir(path)\n",
        "\n",
        "def resize():\n",
        "    for item in dirs:\n",
        "        if os.path.isfile(path+item):\n",
        "            im = Image.open(path+item)\n",
        "            f, e = os.path.splitext(path+item)\n",
        "            try:\n",
        "              imResize = im.resize((224,224), Image.ANTIALIAS)\n",
        "              imResize.save(f + '.jpg', 'JPEG')\n",
        "            except:\n",
        "              print(\"xd\")\n",
        "              pass\n",
        "\n",
        "resize()"
      ]
    },
    {
      "cell_type": "code",
      "execution_count": 4,
      "metadata": {
        "colab": {
          "base_uri": "https://localhost:8080/"
        },
        "id": "5-McvfGEtGOU",
        "outputId": "dce1b527-9d7f-46b1-89f1-e2819c08ba56"
      },
      "outputs": [
        {
          "output_type": "stream",
          "name": "stdout",
          "text": [
            "Collecting split-folders\n",
            "  Downloading split_folders-0.4.3-py3-none-any.whl (7.4 kB)\n",
            "Installing collected packages: split-folders\n",
            "Successfully installed split-folders-0.4.3\n"
          ]
        }
      ],
      "source": [
        "!pip install split-folders"
      ]
    },
    {
      "cell_type": "code",
      "execution_count": 5,
      "metadata": {
        "colab": {
          "base_uri": "https://localhost:8080/"
        },
        "id": "H-I4YY8rtGyH",
        "outputId": "cc58edb7-115c-4eb7-ba2c-190c00da4537"
      },
      "outputs": [
        {
          "output_type": "stream",
          "name": "stderr",
          "text": [
            "Copying files: 10176 files [00:01, 9150.88 files/s]\n"
          ]
        }
      ],
      "source": [
        "import splitfolders # or import splitfolders\n",
        "input_folder = \"/content/data\"\n",
        "output = \"/content/splitted/\" #where you want the split datasets saved. one will be created if it does not exist or none is set\n",
        "\n",
        "splitfolders.ratio(input_folder, output=output, seed=42, ratio=(.8, .0,.2)) # ratio of split are in order of train/val/test. You can change to whatever you want. For train/val sets only, you could do .75, .25 for example."
      ]
    },
    {
      "cell_type": "code",
      "execution_count": null,
      "metadata": {
        "id": "TeJi4LQ8_6GT"
      },
      "outputs": [],
      "source": [
        "!git clone https://github.com/bigmb/Unet-Segmentation-Pytorch-Nest-of-Unets.git"
      ]
    },
    {
      "cell_type": "code",
      "execution_count": null,
      "metadata": {
        "id": "0t2PY70HEBLr"
      },
      "outputs": [],
      "source": [
        "!pip install visdom"
      ]
    },
    {
      "cell_type": "code",
      "execution_count": null,
      "metadata": {
        "id": "wzcmM86IDgOd"
      },
      "outputs": [],
      "source": [
        "!python /content/Unet-Segmentation-Pytorch-Nest-of-Unets/pytorch_run.py"
      ]
    }
  ],
  "metadata": {
    "accelerator": "GPU",
    "colab": {
      "collapsed_sections": [],
      "name": "Untitled17_(2).ipynb",
      "provenance": []
    },
    "kernelspec": {
      "display_name": "Python 3",
      "name": "python3"
    },
    "language_info": {
      "name": "python"
    }
  },
  "nbformat": 4,
  "nbformat_minor": 0
}